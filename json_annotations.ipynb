{
 "cells": [
  {
   "cell_type": "code",
   "execution_count": 1,
   "metadata": {},
   "outputs": [],
   "source": [
    "#import libraries\n",
    "import cv2 as cv\n",
    "import numpy as np\n",
    "import pandas as pd\n",
    "from pandas.io.json import json_normalize\n",
    "import os\n",
    "\n",
    "#define lengths of images in pixels\n",
    "W=1440\n",
    "H=1080\n",
    "mapping = {'Car': 0, 'Motorcycle': 1, 'Truck': 2, 'Bus':3, 'Van':4, 'Bicycle':5, 'Pedestrian':6}\n",
    "\n",
    "#Inputs jsons in pandas dataframe and outputs a properly formated txt file \n",
    "def format_json(urll):\n",
    "    file_name_ext = (os.path.basename(urll))\n",
    "    file_name = (os.path.splitext(os.path.splitext(file_name_ext)[0])[0])\n",
    "    \n",
    "    df = pd.read_json(urll, orient='columns')\n",
    "    annotated_data = json_normalize(df['annotated_data'])\n",
    "    \n",
    "    if 'data' in annotated_data.columns:\n",
    "        final_frame = annotated_data.drop(labels = 'data', axis = 1)\n",
    "    else:\n",
    "        final_frame = annotated_data\n",
    "            \n",
    "    df2 = pd.DataFrame(columns=final_frame.columns)\n",
    "    df2_index = 0\n",
    "    for row in final_frame.iterrows():\n",
    "        one_row = row[1]\n",
    "        for list_value in row[1][\"bounding_box_data\"]:\n",
    "            one_row[\"bounding_box_data\"] = list_value\n",
    "            df2.loc[df2_index] = one_row\n",
    "            df2_index += 1\n",
    "            \n",
    "    df2[list(df2[\"bounding_box_data\"].head(1).tolist()[0].keys())] = df2[\"bounding_box_data\"].apply(lambda x: pd.Series([x[key] for key in x.keys()]))\n",
    "    \n",
    "    df2['x']=df2['x']/W\n",
    "    df2['y']=df2['y']/H\n",
    "    df2['width']=df2['width']/W\n",
    "    df2['height']=df2['height']/H\n",
    "    \n",
    "    df3 = df2.replace({'label': mapping})\n",
    "    df4 = df3.drop(labels = 'bounding_box_data', axis = 1)\n",
    "    \n",
    "    df4.to_csv(r'/Users/fkarasek/Downloads/data_2/jpeg_labels/' + file_name + '.txt', header=None, index=None, sep=' ', mode='a')\n"
   ]
  },
  {
   "cell_type": "code",
   "execution_count": null,
   "metadata": {},
   "outputs": [],
   "source": [
    "#Use the above function to loop through directory and print out txt files\n",
    "from pathlib import Path\n",
    "\n",
    "\n",
    "for filename in os.listdir('/Users/fkarasek/Downloads/data_2/labels_data'):\n",
    "    mypath = '/Users/fkarasek/Downloads/data_2/labels_data/' + str(Path(filename))\n",
    "    format_json(mypath)"
   ]
  },
  {
   "cell_type": "code",
   "execution_count": null,
   "metadata": {},
   "outputs": [],
   "source": [
    "#find jpegs that have annotations and copy them to a separate folder\n",
    "from shutil import copyfile\n",
    "\n",
    "\n",
    "for filename in os.listdir('/Users/fkarasek/Downloads/data_2/jpeg_labels'):\n",
    "    filenamext = (os.path.splitext(filename)[0])\n",
    "    for file_name in os.listdir('/Users/fkarasek/Downloads/data_2/jpegs'):\n",
    "        filenamextjp = (os.path.splitext(file_name)[0])\n",
    "        if filenamext == filenamextjp:\n",
    "            copyfile('/Users/fkarasek/Downloads/data_2/jpegs/'+ file_name, '/Users/fkarasek/Downloads/data_2/filtered_jpegs/'+file_name)\n",
    "        else:\n",
    "            continue\n",
    "\n"
   ]
  }
 ],
 "metadata": {
  "kernelspec": {
   "display_name": "Python 3",
   "language": "python",
   "name": "python3"
  },
  "language_info": {
   "codemirror_mode": {
    "name": "ipython",
    "version": 3
   },
   "file_extension": ".py",
   "mimetype": "text/x-python",
   "name": "python",
   "nbconvert_exporter": "python",
   "pygments_lexer": "ipython3",
   "version": "3.7.3"
  }
 },
 "nbformat": 4,
 "nbformat_minor": 1
}
